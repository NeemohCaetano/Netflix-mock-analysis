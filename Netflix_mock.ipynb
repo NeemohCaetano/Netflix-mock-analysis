{
 "cells": [
  {
   "cell_type": "code",
   "execution_count": 23,
   "metadata": {},
   "outputs": [],
   "source": [
    "#importando bibliotecas\n",
    "import pandas as pd\n",
    "import numpy as np\n",
    "import datetime\n",
    "import os"
   ]
  },
  {
   "cell_type": "markdown",
   "metadata": {},
   "source": [
    "Eu queria criar uma variável que contivesse o caminho para o arquivo, assim eu poderia usar ela sempre que necessário ao invés de ficar copiando e colando"
   ]
  },
  {
   "cell_type": "code",
   "execution_count": 25,
   "metadata": {},
   "outputs": [],
   "source": [
    "#salvando o local onde o programa está dentro de uma variável, assim eu posso usar isso no futuro para encontra as bases de dados\n",
    "pwd = os.getcwd()"
   ]
  },
  {
   "cell_type": "code",
   "execution_count": 26,
   "metadata": {},
   "outputs": [],
   "source": [
    "#criando uma variavel que é o caminho do arquivo\n",
    "filepath = pwd + \"/netflix_titles.csv\" "
   ]
  },
  {
   "cell_type": "markdown",
   "metadata": {},
   "source": [
    "Agora vamos ler o arquivo"
   ]
  },
  {
   "cell_type": "code",
   "execution_count": null,
   "metadata": {},
   "outputs": [],
   "source": [
    "#lendo o arquivo\n",
    "netflix = pd.read_csv(filepath)\n",
    "netflix.head(15)"
   ]
  },
  {
   "cell_type": "markdown",
   "metadata": {},
   "source": [
    "Quero ter uma noção melhor das informações contidas nessa base de dados"
   ]
  },
  {
   "cell_type": "code",
   "execution_count": null,
   "metadata": {},
   "outputs": [],
   "source": [
    "#observando o nome de todas as colunas\n",
    "list(netflix.columns) "
   ]
  },
  {
   "cell_type": "code",
   "execution_count": null,
   "metadata": {},
   "outputs": [],
   "source": [
    "#entendendo algumas informações importante sobre os dados\n",
    "netflix.describe()"
   ]
  },
  {
   "cell_type": "code",
   "execution_count": null,
   "metadata": {},
   "outputs": [],
   "source": [
    "#entendendo todos os valores únicos na coluna 'country' para entender melhor como esses dados estão distribuidos\n",
    "list(netflix[\"country\"].unique()) "
   ]
  },
  {
   "cell_type": "markdown",
   "metadata": {},
   "source": [
    "Resolvi analisar os dados para quando o país for a Singapura"
   ]
  },
  {
   "cell_type": "code",
   "execution_count": null,
   "metadata": {},
   "outputs": [],
   "source": [
    "#filtrando os dados\n",
    "netflix[netflix[\"country\"] == \"Singapore\"]  #filter a dataframe"
   ]
  },
  {
   "cell_type": "code",
   "execution_count": null,
   "metadata": {},
   "outputs": [],
   "source": [
    "#filtrando os dados para ver apenas os shows de tv\n",
    "netflix[(netflix[\"country\"] == \"Singapore\") & (netflix[\"rating\"] == \"TV-MA\")]"
   ]
  },
  {
   "cell_type": "markdown",
   "metadata": {},
   "source": [
    "eu percebi que a coluna 'date_added' estava com a data em um formato não muito amigavel para se trabalhar. Então criei uma nova coluna com a data em um formato melhor"
   ]
  },
  {
   "cell_type": "code",
   "execution_count": null,
   "metadata": {},
   "outputs": [],
   "source": [
    "#criando a nova coluna com a data em outro formato\n",
    "netflix[\"computer_date\"] = pd.to_datetime(netflix[\"date_added\"])\n",
    "netflix.head(15)"
   ]
  },
  {
   "cell_type": "markdown",
   "metadata": {},
   "source": [
    "algumas datas mais novas vieram sem valor para essa nova coluna, então corrigi isso"
   ]
  },
  {
   "cell_type": "code",
   "execution_count": 34,
   "metadata": {},
   "outputs": [],
   "source": [
    "from datetime import datetime as dt\n",
    "netflix[\"computer_date\"].fillna(dt(2020, 1, 1), inplace=True)"
   ]
  },
  {
   "cell_type": "markdown",
   "metadata": {},
   "source": [
    "Queria dividir essa data em duas partes: Mês e ano"
   ]
  },
  {
   "cell_type": "code",
   "execution_count": 35,
   "metadata": {},
   "outputs": [],
   "source": [
    "#criando as novas colunas\n",
    "netflix[[\"Date Part 1\", \"Date Part 2\"]] = netflix[\"date_added\"].str.split(\", \", expand=True)"
   ]
  },
  {
   "cell_type": "code",
   "execution_count": 36,
   "metadata": {},
   "outputs": [],
   "source": [
    "#renomeando a nova coluna\n",
    "netflix.rename(columns={\"Date Part 2\": \"Year\"}, inplace=True)"
   ]
  },
  {
   "cell_type": "markdown",
   "metadata": {},
   "source": [
    "Percebi também que existiam alguns valores faltando para as colunas cast e director, então substitui os valores NaN por outros valores"
   ]
  },
  {
   "cell_type": "code",
   "execution_count": 37,
   "metadata": {},
   "outputs": [],
   "source": [
    "#trocando os valores NaN\n",
    "netflix[\"cast\"].fillna(value=\"no cast info\", inplace=True)\n",
    "netflix[\"director\"].fillna(value=\"no director info\", inplace=True)"
   ]
  },
  {
   "cell_type": "markdown",
   "metadata": {},
   "source": [
    "eu queria entender também quantos gêneros diferentes cada filme tinha"
   ]
  },
  {
   "cell_type": "code",
   "execution_count": 38,
   "metadata": {},
   "outputs": [],
   "source": [
    "#criando uma nova coluna que é igual a quantidade de genêros de cada filme\n",
    "netflix[\"genre_count\"] = netflix[\"listed_in\"].map(lambda x: len(x.split(\",\"))) #split \",\" is used to divide where to stop counting and start again"
   ]
  },
  {
   "cell_type": "markdown",
   "metadata": {},
   "source": [
    "Queria ver também quantos filmes foram lançados em cada país, então vamos a isso"
   ]
  },
  {
   "cell_type": "code",
   "execution_count": 39,
   "metadata": {},
   "outputs": [],
   "source": [
    "#agrupando os dados\n",
    "movies_by_country = netflix.groupby(\"country\")[\"show_id\"].count().reset_index().sort_values(by = \"show_id\", ascending = False).reset_index()"
   ]
  },
  {
   "cell_type": "code",
   "execution_count": 40,
   "metadata": {},
   "outputs": [],
   "source": [
    "#salvando as mudanças na planilha\n",
    "netflix.to_csv(\"netflix_titles_cleaned.csv\", index=False) "
   ]
  },
  {
   "cell_type": "markdown",
   "metadata": {},
   "source": [
    "Aqui nesta análise eu fiz diversas mudanças e correções que não chegaram a ser usadas. Isso porque o intuito aqui era apenas aprender um pouco mais sobre limpar os dados e visualizar eles.\n",
    "Este foi meu primeiro projeto :) "
   ]
  }
 ],
 "metadata": {
  "interpreter": {
   "hash": "5ced518c0d21c2dac5f638dd679f74090b53b5af55b1f3c7bb08b9057126c668"
  },
  "kernelspec": {
   "display_name": "Python 3.8.8 64-bit ('base': conda)",
   "name": "python3"
  },
  "language_info": {
   "codemirror_mode": {
    "name": "ipython",
    "version": 3
   },
   "file_extension": ".py",
   "mimetype": "text/x-python",
   "name": "python",
   "nbconvert_exporter": "python",
   "pygments_lexer": "ipython3",
   "version": "3.8.8"
  },
  "orig_nbformat": 4
 },
 "nbformat": 4,
 "nbformat_minor": 2
}
